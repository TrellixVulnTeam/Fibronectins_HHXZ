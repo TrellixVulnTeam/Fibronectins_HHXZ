{
 "cells": [
  {
   "cell_type": "code",
   "execution_count": 67,
   "metadata": {},
   "outputs": [],
   "source": [
    "import pickle\n",
    "from colvars import Colvars\n",
    "import pandas as pd\n",
    "from periodic_kdtree import PeriodicCKDTree\n",
    "\n",
    "fibro = pickle.load(open(\"fibronectin_system.pkl\",'rb'))\n",
    "#print(fibro.fibronectins.atoms)\n",
    "\n",
    "interacting_atom_types  = [2,3,8,9]\n",
    "\n",
    "atoms = fibro.fibronectins.atoms\n",
    "atches = list(filter(lambda x: x[2] in interacting_atom_types, atoms))\n",
    "\n",
    "df = pd.read_csv('fibro.xyz',skiprows=2,delimiter=' ',names=['type','x','y','z'])"
   ]
  },
  {
   "cell_type": "code",
   "execution_count": 68,
   "metadata": {},
   "outputs": [],
   "source": [
    "df = df[df['type'].isin(interacting_atom_types)]"
   ]
  },
  {
   "cell_type": "code",
   "execution_count": 69,
   "metadata": {},
   "outputs": [],
   "source": [
    "coordinates = np.array([df['x'].values,df['y'].values,df['z'].values])"
   ]
  },
  {
   "cell_type": "code",
   "execution_count": 70,
   "metadata": {},
   "outputs": [
    {
     "data": {
      "text/plain": [
       "array([[  -0.38085 ,   -1.2803  ,   -0.252152],\n",
       "       [  -0.373122,   -0.985555,    0.703393],\n",
       "       [  -0.365393,   -0.690809,    1.65894 ],\n",
       "       ..., \n",
       "       [   7.41959 ,  246.425   ,  126.28    ],\n",
       "       [   7.48743 ,  246.002   ,  127.184   ],\n",
       "       [   7.55528 ,  245.579   ,  128.087   ]])"
      ]
     },
     "execution_count": 70,
     "metadata": {},
     "output_type": "execute_result"
    }
   ],
   "source": [
    "coordinates.T"
   ]
  },
  {
   "cell_type": "code",
   "execution_count": 71,
   "metadata": {},
   "outputs": [],
   "source": [
    "xbound = fibro.fibronectins.side_lengthx\n",
    "ybound = fibro.fibronectins.side_lengthy\n",
    "zbound = fibro.fibronectins.side_lengthz\n",
    "bounds = np.array([xbound, ybound, zbound])\n"
   ]
  },
  {
   "cell_type": "code",
   "execution_count": 72,
   "metadata": {},
   "outputs": [],
   "source": [
    "data = coordinates.T\n",
    "T = PeriodicCKDTree(bounds,data)"
   ]
  },
  {
   "cell_type": "code",
   "execution_count": 75,
   "metadata": {},
   "outputs": [],
   "source": [
    "d, i = T.query(data[1], k=10)"
   ]
  },
  {
   "cell_type": "code",
   "execution_count": 78,
   "metadata": {},
   "outputs": [
    {
     "data": {
      "text/plain": [
       "array([ 0.        ,  1.00000029,  1.00000251,  1.36922492,  1.44853577,\n",
       "        1.91083462,  1.99999802,  2.72539779,  2.94831962,  3.00000338])"
      ]
     },
     "execution_count": 78,
     "metadata": {},
     "output_type": "execute_result"
    }
   ],
   "source": [
    "d"
   ]
  },
  {
   "cell_type": "code",
   "execution_count": 32,
   "metadata": {},
   "outputs": [
    {
     "data": {
      "text/plain": [
       "(17500, 3)"
      ]
     },
     "execution_count": 32,
     "metadata": {},
     "output_type": "execute_result"
    }
   ],
   "source": [
    "data.shape"
   ]
  },
  {
   "cell_type": "code",
   "execution_count": null,
   "metadata": {},
   "outputs": [],
   "source": []
  },
  {
   "cell_type": "code",
   "execution_count": null,
   "metadata": {},
   "outputs": [],
   "source": []
  },
  {
   "cell_type": "code",
   "execution_count": 36,
   "metadata": {},
   "outputs": [
    {
     "name": "stderr",
     "output_type": "stream",
     "text": [
      "100%|██████████| 17500/17500 [00:03<00:00, 4858.54it/s]\n"
     ]
    }
   ],
   "source": [
    "from tqdm import tqdm\n",
    "for i in tqdm(range(len(data))):\n",
    "    T.query(data[i], k=20)\n",
    "    "
   ]
  },
  {
   "cell_type": "code",
   "execution_count": null,
   "metadata": {},
   "outputs": [],
   "source": []
  }
 ],
 "metadata": {
  "kernelspec": {
   "display_name": "Python [conda env:anaconda]",
   "language": "python",
   "name": "conda-env-anaconda-py"
  },
  "language_info": {
   "codemirror_mode": {
    "name": "ipython",
    "version": 3
   },
   "file_extension": ".py",
   "mimetype": "text/x-python",
   "name": "python",
   "nbconvert_exporter": "python",
   "pygments_lexer": "ipython3",
   "version": "3.5.6"
  }
 },
 "nbformat": 4,
 "nbformat_minor": 2
}
