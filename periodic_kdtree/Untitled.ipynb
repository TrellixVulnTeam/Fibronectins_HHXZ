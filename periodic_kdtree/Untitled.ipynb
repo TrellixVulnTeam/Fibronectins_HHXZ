{
 "cells": [
  {
   "cell_type": "code",
   "execution_count": 1,
   "metadata": {},
   "outputs": [],
   "source": [
    "import numpy as np\n",
    "import pandas as pd\n",
    "import pickle\n",
    "from colvars import Colvars\n",
    "from tqdm import tqdm\n",
    "from periodic_kdtree import PeriodicCKDTree\n",
    "\n",
    "fibro = pickle.load(open(\"fibronectin_system.pkl\",'rb'))\n",
    "\n",
    "xbound = 2*fibro.fibronectins.side_lengthx\n",
    "ybound = 2*fibro.fibronectins.side_lengthy\n",
    "zbound = 2*fibro.fibronectins.side_lengthz\n",
    "bounds = np.array([xbound, ybound, zbound])\n",
    "# the box is defined from -side_length to +side_length\n",
    "# so we need to multiply by 2\n",
    "\n",
    "# atom types of the interacting patches\n",
    "interacting_atom_types = [2,3,8,9]\n",
    "\n",
    "df = pd.read_csv('fibro.xyz',skiprows=2,delimiter=' ',names=['type','x','y','z'])"
   ]
  },
  {
   "cell_type": "code",
   "execution_count": 3,
   "metadata": {},
   "outputs": [],
   "source": [
    "# herein a dataframe  with the coordinates of the atoms and the index\n",
    "# of the corresponding fibronectin monomer, please note that this is different \n",
    "# from the molecular index\n",
    "\n",
    "fibronectin_ends = sorted(list(set(fibro.fibronectins.monomer_chunks)))\n",
    "fibronectin_length = fibronectin_ends[1] - fibronectin_ends[0]\n",
    "fibronectin_indices = np.array([ i//(fibronectin_length) for i in range(df.shape[0])])\n",
    "fibro_array = fibronectin_indices\n",
    "fibronectin_indices = pd.DataFrame({'fibronectin_indices': fibronectin_indices})\n",
    "df = df.join(fibronectin_indices)\n"
   ]
  },
  {
   "cell_type": "code",
   "execution_count": 5,
   "metadata": {},
   "outputs": [],
   "source": [
    "atomic_indices = [ i for i in range(df.shape[0]) ]\n",
    "atomic_indices = pd.DataFrame({'atomic_indices': atomic_indices})\n",
    "df = df.join(atomic_indices)"
   ]
  },
  {
   "cell_type": "code",
   "execution_count": 7,
   "metadata": {},
   "outputs": [],
   "source": [
    "atom_to_monomer = { df['atomic_indices'][i]:df['fibronectin_indices'][i] for i in range(df.shape[0])}"
   ]
  },
  {
   "cell_type": "code",
   "execution_count": 9,
   "metadata": {},
   "outputs": [],
   "source": [
    "# this filters just the atoms in the interactin patches\n",
    "df = df[df['type'].isin(interacting_atom_types)]"
   ]
  },
  {
   "cell_type": "code",
   "execution_count": 11,
   "metadata": {},
   "outputs": [],
   "source": [
    "coordinates = np.array([df['x'].values,df['y'].values,df['z'].values])"
   ]
  },
  {
   "cell_type": "code",
   "execution_count": 14,
   "metadata": {},
   "outputs": [],
   "source": [
    "data = coordinates.T\n",
    "T = PeriodicCKDTree(bounds,data)"
   ]
  },
  {
   "cell_type": "code",
   "execution_count": 17,
   "metadata": {},
   "outputs": [],
   "source": [
    "class InteractionMatrixBuilder:\n",
    "    \n",
    "    \"\"\"This class builds the interaction matrix. In this, Mij is 1 if two monomers interact and\n",
    "    0 if they don't.\"\"\"\n",
    "\n",
    "    def __init__(self):\n",
    "        \n",
    "        self.cutoff = 1.3*1.12\n",
    "        no_monomers = df[-1:]['fibronectin_indices'].values[0]+1\n",
    "        self.matrix = [[0]*no_monomers for _ in range(no_monomers)]    \n",
    "        \n",
    "    def get_interactions(self):\n",
    "        \n",
    "        for i in tqdm(range(len(data))):\n",
    "            distances, neighbour_indices = T.query(data[i], k=5)\n",
    "            for j in range(len(neighbour_indices)):\n",
    "                if distances[j] < self.cutoff and atom_to_monomer[int(df.iloc[i].atomic_indices)] != atom_to_monomer[int(df.iloc[neighbour_indices[j]].atomic_indices)]:\n",
    "                    #print(\"interaction found\")\n",
    "                    #print(i,j)\n",
    "                    #print(df.iloc[i].atomic_indices,df.iloc[j].atomic_indices)\n",
    "                    u = atom_to_monomer[int(df.iloc[i].atomic_indices)]\n",
    "                    v = atom_to_monomer[int(df.iloc[neighbour_indices[j]].atomic_indices)]\n",
    "                    self.matrix[u][v],self.matrix[v][u] = 1,1  "
   ]
  },
  {
   "cell_type": "code",
   "execution_count": 18,
   "metadata": {},
   "outputs": [
    {
     "name": "stderr",
     "output_type": "stream",
     "text": [
      "100%|██████████| 17500/17500 [00:31<00:00, 555.53it/s]\n"
     ]
    }
   ],
   "source": [
    "interaction_matrix = InteractionMatrixBuilder()\n",
    "interaction_matrix.get_interactions()"
   ]
  },
  {
   "cell_type": "code",
   "execution_count": null,
   "metadata": {},
   "outputs": [],
   "source": []
  }
 ],
 "metadata": {
  "anaconda-cloud": {},
  "kernelspec": {
   "display_name": "Python [conda env:anaconda]",
   "language": "python",
   "name": "conda-env-anaconda-py"
  },
  "language_info": {
   "codemirror_mode": {
    "name": "ipython",
    "version": 3
   },
   "file_extension": ".py",
   "mimetype": "text/x-python",
   "name": "python",
   "nbconvert_exporter": "python",
   "pygments_lexer": "ipython3",
   "version": "3.5.2"
  }
 },
 "nbformat": 4,
 "nbformat_minor": 2
}
