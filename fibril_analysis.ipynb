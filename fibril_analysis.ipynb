{
 "cells": [
  {
   "cell_type": "code",
   "execution_count": 16,
   "metadata": {},
   "outputs": [],
   "source": [
    "import numpy as np\n",
    "import pandas as pd\n",
    "import pickle\n",
    "from colvars import Colvars\n",
    "from tqdm import tqdm\n",
    "import queue\n",
    "import math\n",
    "import matplotlib.pyplot as plt\n",
    "import seaborn as sns;sns.set()\n",
    "from nematic import NematicCalculator\n",
    "from periodic_kdtree.periodic_kdtree import PeriodicCKDTree\n",
    "%matplotlib inline\n",
    "\n",
    "fibro = pickle.load(open(\"fibronectin_system.pkl\",'rb'))\n",
    "\n",
    "xbound = 2*fibro.fibronectins.side_lengthx\n",
    "ybound = 2*fibro.fibronectins.side_lengthy\n",
    "zbound = 2*fibro.fibronectins.side_lengthz\n",
    "bounds = np.array([xbound, ybound, zbound])\n",
    "# the box is defined from -side_length to +side_length\n",
    "# so we need to multiply by 2\n",
    "\n",
    "# atom types of the interacting patches\n",
    "interacting_atom_types = [2,3,8,9]\n",
    "\n",
    "\n",
    "df = pd.read_csv('last_frame.xyz',skiprows=2,delimiter=' ',names=['type','x','y','z'])\n",
    "coloured_df = df"
   ]
  },
  {
   "cell_type": "code",
   "execution_count": 17,
   "metadata": {},
   "outputs": [],
   "source": [
    "# herein a dataframe  with the coordinates of the atoms and the index\n",
    "# of the corresponding fibronectin monomer, please note that this is different \n",
    "# from the molecular index\n",
    "\n",
    "fibronectin_ends = sorted(list(set(fibro.fibronectins.monomer_chunks)))\n",
    "fibronectin_length = fibronectin_ends[1] - fibronectin_ends[0]\n",
    "fibronectin_indices = np.array([i//(fibronectin_length) for i in range(df.shape[0])])\n",
    "fibronectin_indices = pd.DataFrame({'fibronectin_indices': fibronectin_indices})\n",
    "df = df.join(fibronectin_indices)\n"
   ]
  },
  {
   "cell_type": "code",
   "execution_count": 18,
   "metadata": {},
   "outputs": [],
   "source": [
    "nematic = NematicCalculator()"
   ]
  },
  {
   "cell_type": "code",
   "execution_count": 19,
   "metadata": {},
   "outputs": [],
   "source": [
    "fibronectins = df"
   ]
  },
  {
   "cell_type": "code",
   "execution_count": 20,
   "metadata": {},
   "outputs": [],
   "source": [
    "atomic_indices = [ i for i in range(df.shape[0]) ] \n",
    "atomic_indices = pd.DataFrame({'atomic_indices': atomic_indices})\n",
    "df = df.join(atomic_indices)"
   ]
  },
  {
   "cell_type": "code",
   "execution_count": 21,
   "metadata": {},
   "outputs": [],
   "source": [
    "atom_to_monomer = { df['atomic_indices'][i]:df['fibronectin_indices'][i] for i in range(df.shape[0])}"
   ]
  },
  {
   "cell_type": "code",
   "execution_count": 22,
   "metadata": {},
   "outputs": [],
   "source": [
    "# this filters just the atoms in the interacting patches\n",
    "df = df[df['type'].isin(interacting_atom_types)]"
   ]
  },
  {
   "cell_type": "code",
   "execution_count": 23,
   "metadata": {},
   "outputs": [],
   "source": [
    "coordinates = np.array([df['x'].values,df['y'].values,df['z'].values])\n",
    "data = coordinates.T\n",
    "T = PeriodicCKDTree(bounds,data)"
   ]
  },
  {
   "cell_type": "code",
   "execution_count": 24,
   "metadata": {},
   "outputs": [],
   "source": [
    "class InteractionMatrixBuilder:\n",
    "    \n",
    "    \"\"\"This class builds the interaction matrix. In this, Aij is 1 if two monomers interact and\n",
    "    0 if they don't. It contains a breadth-sear  \"\"\"\n",
    "\n",
    "    def __init__(self):\n",
    "        \n",
    "        self.cutoff = 1.3*1.12\n",
    "        no_monomers = df[-1:]['fibronectin_indices'].values[0]+1\n",
    "        self.matrix = [[0]*no_monomers for _ in range(no_monomers)]    \n",
    "        \n",
    "    def get_interactions(self):\n",
    "        \n",
    "        #print(\"Creating the interaction matrix\")\n",
    "        for i in range(len(data)):\n",
    "            distances, neighbour_indices = T.query(data[i], k=5)\n",
    "            for j in range(len(neighbour_indices)):\n",
    "                if distances[j] < self.cutoff and atom_to_monomer[int(df.iloc[i].atomic_indices)] != atom_to_monomer[int(df.iloc[neighbour_indices[j]].atomic_indices)]:\n",
    "                    u = atom_to_monomer[int(df.iloc[i].atomic_indices)]\n",
    "                    v = atom_to_monomer[int(df.iloc[neighbour_indices[j]].atomic_indices)]\n",
    "                    self.matrix[u][v],self.matrix[v][u] = 1,1  \n",
    "        return self.matrix\n",
    "        \n",
    "    @staticmethod\n",
    "    def clustering(interaction_matrix):\n",
    "        \n",
    "        \"this creates the matrix\"\n",
    "        \n",
    "        visited = [ False for _ in range(len(interaction_matrix)) ]\n",
    "        fibrils = []\n",
    "        q = queue.Queue()\n",
    "        \n",
    "        for i in range(len(interaction_matrix)):\n",
    "            if visited[i]:\n",
    "                continue\n",
    "            else:\n",
    "                fibrils.append([i])\n",
    "                q.put(i)\n",
    "            while not q.empty():\n",
    "                to_visit = q.get()\n",
    "                if not visited[to_visit]:\n",
    "                    visited[to_visit] = True\n",
    "                    for j in range(len(interaction_matrix)):\n",
    "                        if interaction_matrix[to_visit][j]:\n",
    "                            if not visited[j]:\n",
    "                                q.put(j)\n",
    "                                fibrils[-1].append(j)\n",
    "                                visited[j] = True\n",
    "        return fibrils\n",
    "    \n",
    "    @staticmethod\n",
    "    def get_all_order_params(fibrils):\n",
    "        \n",
    "        order_params = []\n",
    "        for item in fibrils:\n",
    "            subunits = fibronectins[(fibronectins['fibronectin_indices'].isin(item)) & ((fibronectins['type']==2)|(fibronectins['type']==3))]\n",
    "            vectors = []\n",
    "            for i in range(subunits.shape[0]):\n",
    "                if  not i % fibro.fibronectins.no_rods:\n",
    "                    dx = subunits.iloc[i+1].x - subunits.iloc[i].x \n",
    "                    dy = subunits.iloc[i+1].y - subunits.iloc[i].y \n",
    "                    dz = subunits.iloc[i+1].z - subunits.iloc[i].z \n",
    "                    dx,dy,dz =nematic.PBC(dx,dy,dz)\n",
    "                    norm = math.sqrt(dx*dx+dy*dy+dz*dz)\n",
    "                    vec = (dx/norm,dy/norm,dz/norm)\n",
    "                    vectors.append(vec)\n",
    "                    #print(vectors)\n",
    "            order_params.append(nematic.get_order_param(vectors))\n",
    "        return order_params\n",
    "    \n",
    "    def get_alignment(fibril1,fibril2):\n",
    "        #calculates the alignment of two fibrils\n",
    "            subunits = fibronectins[(fibronectins['fibronectin_indices'].isin([fibril1,fibril2])) & ((fibronectins['type']==2)|(fibronectins['type']==3))]\n",
    "            vectors = []\n",
    "            \n",
    "            for i in range(subunits.shape[0]):\n",
    "                if  not i % fibro.fibronectins.no_rods:\n",
    "                    \n",
    "                    dx = subunits.iloc[i+1].x - subunits.iloc[i].x \n",
    "                    dy = subunits.iloc[i+1].y - subunits.iloc[i].y \n",
    "                    dz = subunits.iloc[i+1].z - subunits.iloc[i].z \n",
    "                    dx,dy,dz = nematic.PBC(dx,dy,dz)\n",
    "                    norm = math.sqrt(dx*dx+dy*dy+dz*dz)\n",
    "                    vec = (dx/norm,dy/norm,dz/norm)\n",
    "                    vectors.append(vec)\n",
    "            return nematic.get_order_param(vectors)\n",
    "            \n",
    "        \n",
    "    "
   ]
  },
  {
   "cell_type": "code",
   "execution_count": 25,
   "metadata": {},
   "outputs": [],
   "source": [
    "class Fibrils:\n",
    "    \n",
    "    \"\"\"Responsible for building the fibrilar matrix.\"\"\"\n",
    "    \n",
    "    def __init__(self):\n",
    "        \n",
    "        matrix = InteractionMatrixBuilder()\n",
    "        interaction_matrix = matrix.get_interactions()\n",
    "        self.clusters = InteractionMatrixBuilder.clustering(interaction_matrix)\n",
    "        self.aggregates = list(filter(lambda x: len(x)>1, self.clusters))\n",
    "        self.alignment_matrices = []\n",
    "        self.network = []\n",
    "        self.nematic_cutoff = 0.4\n",
    "        \n",
    "        self.generate_fibril_network()\n",
    "        \n",
    "    def generate_fibril_network(self):\n",
    "        \n",
    "        ''' responsible for grouping the clusters (monomers that interact) into fibrils,\n",
    "        depending on the nematic order parameter'''\n",
    "        \n",
    "        for aggregate in self.aggregates:       \n",
    "            alignment_matrix = [[0]*len(aggregate) for _ in range(len(aggregate))]    \n",
    "            for i in range(len(aggregate)):\n",
    "                for j in range(len(aggregate)):\n",
    "                    alignment = InteractionMatrixBuilder.get_alignment(aggregate[i],aggregate[j])\n",
    "                    if alignment > self.nematic_cutoff:\n",
    "                        alignment_matrix[i][j],alignment_matrix[j][i] = 1,1\n",
    "            alignment_matrix = InteractionMatrixBuilder.clustering(alignment_matrix)\n",
    "            \n",
    "            fibrils = []\n",
    "            \n",
    "            for item in alignment_matrix:\n",
    "                fibril = []\n",
    "                for fibril_indices in item:\n",
    "                    fibril.append(aggregate[fibril_indices])\n",
    "                fibrils.append(fibril[:])\n",
    "            self.network.extend(fibrils)\n",
    "            "
   ]
  },
  {
   "cell_type": "code",
   "execution_count": 26,
   "metadata": {},
   "outputs": [],
   "source": [
    "fibrils = Fibrils()\n",
    "fibrils.generate_fibril_network()"
   ]
  },
  {
   "cell_type": "code",
   "execution_count": 27,
   "metadata": {},
   "outputs": [],
   "source": [
    "new_types = np.ones_like(coloured_df.type.values)"
   ]
  },
  {
   "cell_type": "code",
   "execution_count": 28,
   "metadata": {},
   "outputs": [
    {
     "name": "stdout",
     "output_type": "stream",
     "text": [
      "[2 2 2 ... 1 1 1]\n"
     ]
    }
   ],
   "source": [
    "for cluster in fibrils.network:\n",
    "    for monomer in cluster:\n",
    "        new_types[monomer*fibronectin_length:(monomer+1)*fibronectin_length] =len(cluster)\n",
    "print(new_types)"
   ]
  },
  {
   "cell_type": "code",
   "execution_count": 29,
   "metadata": {},
   "outputs": [],
   "source": [
    "coloured_df.type = new_types"
   ]
  },
  {
   "cell_type": "code",
   "execution_count": 30,
   "metadata": {},
   "outputs": [],
   "source": [
    "with open(\"coloured.xyz\",'w') as infile:\n",
    "    for i in range(coloured_df.type.values.shape[0]):\n",
    "        infile.write(\"{} {} {} {}\\n\".format(coloured_df.type.values[i],coloured_df.x.values[i],coloured_df.y.values[i],coloured_df.z.values[i]))\n"
   ]
  },
  {
   "cell_type": "code",
   "execution_count": null,
   "metadata": {},
   "outputs": [],
   "source": []
  }
 ],
 "metadata": {
  "anaconda-cloud": {},
  "kernelspec": {
   "display_name": "Python [default]",
   "language": "python",
   "name": "python3"
  },
  "language_info": {
   "codemirror_mode": {
    "name": "ipython",
    "version": 3
   },
   "file_extension": ".py",
   "mimetype": "text/x-python",
   "name": "python",
   "nbconvert_exporter": "python",
   "pygments_lexer": "ipython3",
   "version": "3.5.2"
  }
 },
 "nbformat": 4,
 "nbformat_minor": 2
}
